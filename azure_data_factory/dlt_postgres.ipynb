{
 "cells": [
  {
   "cell_type": "code",
   "execution_count": 0,
   "metadata": {
    "application/vnd.databricks.v1+cell": {
     "cellMetadata": {
      "byteLimit": 2048000,
      "rowLimit": 10000
     },
     "inputWidgets": {},
     "nuid": "8b354fc1-4bf8-4223-ac3f-6ddffeaee650",
     "showTitle": false,
     "tableResultSettingsMap": {},
     "title": ""
    }
   },
   "outputs": [],
   "source": [
    "import dlt\n",
    "from pyspark.sql import functions as F\n",
    "\n",
    "@dlt.view\n",
    "def salesorderheader():\n",
    "    return (\n",
    "        spark.read.table('postgres_catalog.public.salesorderheader')\n",
    "            .select('CustomerID', 'SalesOrderNumber')\n",
    "    )\n",
    "\n",
    "@dlt.view\n",
    "def customer():\n",
    "    return (\n",
    "        spark.read.table('postgres_catalog.public.customer')\n",
    "            .select('CustomerID', 'FirstName', 'LastName')\n",
    "            .filter(F.col('FirstName') != 'Walter')\n",
    "    )\n",
    "\n",
    "@dlt.table\n",
    "def t1():\n",
    "    c = dlt.read(\"customer\")\n",
    "    return (\n",
    "        dlt.read(\"salesorderheader\")\n",
    "            .join(c, 'CustomerID')\n",
    "    )\n"
   ]
  }
 ],
 "metadata": {
  "application/vnd.databricks.v1+notebook": {
   "computePreferences": null,
   "dashboards": [],
   "environmentMetadata": {
    "base_environment": "",
    "environment_version": "2"
   },
   "inputWidgetPreferences": null,
   "language": "python",
   "notebookMetadata": {
    "pythonIndentUnit": 4
   },
   "notebookName": "dlt_postgres",
   "widgets": {}
  },
  "language_info": {
   "name": "python"
  }
 },
 "nbformat": 4,
 "nbformat_minor": 0
}
