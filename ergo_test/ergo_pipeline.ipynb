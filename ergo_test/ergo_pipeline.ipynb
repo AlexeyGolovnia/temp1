{
 "cells": [
  {
   "cell_type": "code",
   "execution_count": 0,
   "metadata": {
    "application/vnd.databricks.v1+cell": {
     "cellMetadata": {
      "byteLimit": 2048000,
      "rowLimit": 10000
     },
     "inputWidgets": {},
     "nuid": "03450f37-06b4-48f0-8418-33af8f39d56a",
     "showTitle": false,
     "tableResultSettingsMap": {},
     "title": ""
    }
   },
   "outputs": [],
   "source": [
    "from pyspark.sql import functions as F\n",
    "from pyspark.sql import DataFrame"
   ]
  },
  {
   "cell_type": "code",
   "execution_count": 0,
   "metadata": {
    "application/vnd.databricks.v1+cell": {
     "cellMetadata": {
      "byteLimit": 2048000,
      "rowLimit": 10000
     },
     "inputWidgets": {},
     "nuid": "c6ae90ec-d928-43ae-80f0-e0456f6c4dca",
     "showTitle": false,
     "tableResultSettingsMap": {},
     "title": ""
    }
   },
   "outputs": [],
   "source": [
    "path = '/Volumes/my_workspace/my_schema/my_volume'\n",
    "\n",
    "in_xlsx = f\"{path}/ERGO_test.xlsx\"\n",
    "out_xlsx = f\"{path}/processed.xlsx\""
   ]
  },
  {
   "cell_type": "code",
   "execution_count": 0,
   "metadata": {
    "application/vnd.databricks.v1+cell": {
     "cellMetadata": {
      "byteLimit": 2048000,
      "rowLimit": 10000
     },
     "inputWidgets": {},
     "nuid": "cf31abbc-d84d-4def-b850-fefef8f70540",
     "showTitle": false,
     "tableResultSettingsMap": {},
     "title": ""
    }
   },
   "outputs": [],
   "source": [
    "df = (\n",
    "    spark.read.format(\"com.crealytics.spark.excel\")\n",
    "        .option(\"header\", \"true\")\n",
    "        .option(\"inferSchema\", \"true\")\n",
    "        .load(in_xlsx)\n",
    ")\n",
    "\n",
    "display(df)"
   ]
  },
  {
   "cell_type": "code",
   "execution_count": 0,
   "metadata": {
    "application/vnd.databricks.v1+cell": {
     "cellMetadata": {
      "byteLimit": 2048000,
      "rowLimit": 10000
     },
     "inputWidgets": {},
     "nuid": "ba454868-0096-416d-9cc6-6f515f71f52d",
     "showTitle": false,
     "tableResultSettingsMap": {},
     "title": ""
    }
   },
   "outputs": [],
   "source": [
    "class PipelineStep:\n",
    "    def run(self, data: DataFrame) -> DataFrame:\n",
    "        raise NotImplementedError(\"Add run method!\")\n",
    "\n",
    "\n",
    "class Pipeline:\n",
    "    def __init__(self):\n",
    "        self.steps = []\n",
    "\n",
    "    def add_step(self, step: PipelineStep):\n",
    "        self.steps.append(step)\n",
    "\n",
    "    def run(self):\n",
    "        data = None\n",
    "        for step in self.steps:\n",
    "            data = step.run(data)\n",
    "        return data\n",
    "    \n",
    "    \n",
    "class Load_xlsx(PipelineStep):\n",
    "    def __init__(self, input_path):\n",
    "        self.input_path = input_path\n",
    "\n",
    "    def run(self, data=None):\n",
    "        return (\n",
    "            spark.read.format(\"com.crealytics.spark.excel\")\n",
    "                .option(\"header\", \"true\")\n",
    "                .option(\"inferSchema\", \"true\")\n",
    "                .load(self.input_path)\n",
    "        )\n",
    "    \n",
    "\n",
    "class Filter(PipelineStep):\n",
    "    def run(self, data: DataFrame):\n",
    "        return data.filter(F.col('quantity') > 10)\n",
    "    \n",
    "\n",
    "class Total_revenue(PipelineStep):\n",
    "    def run(self, data: DataFrame):\n",
    "        return (\n",
    "            data\n",
    "                .withColumn('total', F.col('quantity') * F.col('price'))\n",
    "                .groupBy('store_id')\n",
    "                .agg(F.sum('total'))\n",
    "        )\n",
    "    \n",
    "\n",
    "class Save_xlsx(PipelineStep):\n",
    "    def __init__(self, output_path):\n",
    "        self.output_path = output_path\n",
    "\n",
    "    def run(self, data: DataFrame):\n",
    "        (\n",
    "            data.write.format(\"com.crealytics.spark.excel\")\n",
    "                .option(\"header\", \"true\")\n",
    "                .mode(\"overwrite\")\n",
    "                .save(self.output_path)\n",
    "        )\n",
    "        return data"
   ]
  },
  {
   "cell_type": "code",
   "execution_count": 0,
   "metadata": {
    "application/vnd.databricks.v1+cell": {
     "cellMetadata": {
      "byteLimit": 2048000,
      "rowLimit": 10000
     },
     "inputWidgets": {},
     "nuid": "fcf336b6-5fb1-45e0-9607-2aa3931c9dcf",
     "showTitle": false,
     "tableResultSettingsMap": {},
     "title": ""
    }
   },
   "outputs": [],
   "source": [
    "pipeline = Pipeline()\n",
    "pipeline.add_step(Load_xlsx(in_xlsx))\n",
    "pipeline.add_step(Filter())\n",
    "pipeline.add_step(Total_revenue())\n",
    "pipeline.add_step(Save_xlsx(out_xlsx))"
   ]
  },
  {
   "cell_type": "code",
   "execution_count": 0,
   "metadata": {
    "application/vnd.databricks.v1+cell": {
     "cellMetadata": {
      "byteLimit": 2048000,
      "rowLimit": 10000
     },
     "inputWidgets": {},
     "nuid": "37714c26-6dec-4b8a-9389-7f35431b3b5a",
     "showTitle": false,
     "tableResultSettingsMap": {},
     "title": ""
    }
   },
   "outputs": [],
   "source": [
    "process = pipeline.run()\n",
    "display(process)"
   ]
  },
  {
   "cell_type": "code",
   "execution_count": 0,
   "metadata": {
    "application/vnd.databricks.v1+cell": {
     "cellMetadata": {},
     "inputWidgets": {},
     "nuid": "f54e8c4f-01ff-44a4-bee4-817d933d437e",
     "showTitle": false,
     "tableResultSettingsMap": {},
     "title": ""
    }
   },
   "outputs": [],
   "source": []
  }
 ],
 "metadata": {
  "application/vnd.databricks.v1+notebook": {
   "computePreferences": null,
   "dashboards": [],
   "environmentMetadata": {
    "base_environment": "",
    "environment_version": "2"
   },
   "inputWidgetPreferences": null,
   "language": "python",
   "notebookMetadata": {
    "pythonIndentUnit": 4
   },
   "notebookName": "ergo_pipeline",
   "widgets": {}
  },
  "language_info": {
   "name": "python"
  }
 },
 "nbformat": 4,
 "nbformat_minor": 0
}
