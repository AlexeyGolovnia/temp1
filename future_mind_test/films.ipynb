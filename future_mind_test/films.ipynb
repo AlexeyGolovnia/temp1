{
 "cells": [
  {
   "cell_type": "code",
   "execution_count": 0,
   "metadata": {
    "application/vnd.databricks.v1+cell": {
     "cellMetadata": {},
     "inputWidgets": {},
     "nuid": "0722028a-17d1-4bab-98c5-3abb2b13f3bf",
     "showTitle": false,
     "tableResultSettingsMap": {},
     "title": ""
    }
   },
   "outputs": [],
   "source": [
    "current_version = spark.sql(\"DESCRIBE HISTORY db_workspace.my_schema.revenues_per_day\").selectExpr(\"max(version)\").collect()[0][0]"
   ]
  },
  {
   "cell_type": "code",
   "execution_count": 0,
   "metadata": {
    "application/vnd.databricks.v1+cell": {
     "cellMetadata": {},
     "inputWidgets": {},
     "nuid": "dbd97eef-6b9b-4d7e-931c-d259d138fd29",
     "showTitle": false,
     "tableResultSettingsMap": {},
     "title": ""
    }
   },
   "outputs": [],
   "source": [
    "%sql\n",
    "CREATE TABLE IF NOT EXISTS db_workspace.my_schema.films (\n",
    "    id BIGINT GENERATED ALWAYS AS IDENTITY,\n",
    "    title STRING,\n",
    "    distributor STRING\n",
    ")\n",
    "USING DELTA;"
   ]
  },
  {
   "cell_type": "code",
   "execution_count": 0,
   "metadata": {
    "application/vnd.databricks.v1+cell": {
     "cellMetadata": {},
     "inputWidgets": {},
     "nuid": "9325389b-076f-4c8a-a7e6-4259aa5f4ea4",
     "showTitle": false,
     "tableResultSettingsMap": {},
     "title": ""
    }
   },
   "outputs": [],
   "source": [
    "df = (\n",
    "    spark.read\n",
    "        .option('readChangeData', 'true')\n",
    "        .option(\"startingVersion\", current_version)\n",
    "        .table('db_workspace.my_schema.revenues_per_day')\n",
    "        .select(\n",
    "            'title',\n",
    "            'distributor',\n",
    "        )\n",
    "        .dropDuplicates()\n",
    ")\n",
    "\n",
    "films = (\n",
    "    df\n",
    "        .join(\n",
    "            spark.read.table('db_workspace.my_schema.films'), \n",
    "            on='title', \n",
    "            how='left_anti')\n",
    ")\n",
    "\n",
    "films.select('title').write.mode('overwrite').saveAsTable('db_workspace.my_schema.temp2')\n",
    "films.write.mode('append').saveAsTable('db_workspace.my_schema.films')"
   ]
  }
 ],
 "metadata": {
  "application/vnd.databricks.v1+notebook": {
   "computePreferences": null,
   "dashboards": [],
   "environmentMetadata": {
    "base_environment": "",
    "environment_version": "2"
   },
   "inputWidgetPreferences": null,
   "language": "python",
   "notebookMetadata": {
    "pythonIndentUnit": 4
   },
   "notebookName": "films",
   "widgets": {}
  },
  "language_info": {
   "name": "python"
  }
 },
 "nbformat": 4,
 "nbformat_minor": 0
}
