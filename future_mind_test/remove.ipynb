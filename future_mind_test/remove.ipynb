{
 "cells": [
  {
   "cell_type": "code",
   "execution_count": 0,
   "metadata": {
    "application/vnd.databricks.v1+cell": {
     "cellMetadata": {
      "byteLimit": 2048000,
      "implicitDf": true,
      "rowLimit": 10000
     },
     "inputWidgets": {},
     "nuid": "b38d2278-3151-455d-a6d5-def01149f48d",
     "showTitle": false,
     "tableResultSettingsMap": {},
     "title": ""
    }
   },
   "outputs": [],
   "source": [
    "%sql\n",
    "--DROP TABLE IF EXISTS db_workspace.my_schema.facts;\n",
    "DROP TABLE IF EXISTS db_workspace.my_schema.films;\n",
    "--DROP TABLE IF EXISTS db_workspace.my_schema.ratings;\n",
    "DROP TABLE IF EXISTS db_workspace.my_schema.revenues_per_day;\n",
    "DROP TABLE IF EXISTS db_workspace.my_schema.temp;\n",
    "DROP TABLE IF EXISTS db_workspace.my_schema.temp2;\n",
    "--DROP TABLE IF EXISTS db_workspace.my_schema.actors;"
   ]
  }
 ],
 "metadata": {
  "application/vnd.databricks.v1+notebook": {
   "computePreferences": null,
   "dashboards": [],
   "environmentMetadata": {
    "base_environment": "",
    "environment_version": "2"
   },
   "inputWidgetPreferences": null,
   "language": "python",
   "notebookMetadata": {
    "mostRecentlyExecutedCommandWithImplicitDF": {
     "commandId": 1116617453425183,
     "dataframes": [
      "_sqldf"
     ]
    },
    "pythonIndentUnit": 4
   },
   "notebookName": "remove",
   "widgets": {}
  },
  "language_info": {
   "name": "python"
  }
 },
 "nbformat": 4,
 "nbformat_minor": 0
}
